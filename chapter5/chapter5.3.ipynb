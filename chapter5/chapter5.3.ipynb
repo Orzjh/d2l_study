{
 "cells": [
  {
   "cell_type": "markdown",
   "source": [
    "5.3.1"
   ],
   "metadata": {
    "collapsed": false
   }
  },
  {
   "cell_type": "code",
   "execution_count": 24,
   "outputs": [
    {
     "data": {
      "text/plain": "Sequential(\n  (0): LazyLinear(in_features=0, out_features=256, bias=True)\n  (1): ReLU()\n  (2): LazyLinear(in_features=0, out_features=10, bias=True)\n)"
     },
     "execution_count": 24,
     "metadata": {},
     "output_type": "execute_result"
    }
   ],
   "source": [
    "import torch\n",
    "from torch import nn\n",
    "import numpy as np\n",
    "\n",
    "def get_net():\n",
    "    net = nn.Sequential(\n",
    "        nn.LazyLinear(256),\n",
    "        nn.ReLU(),\n",
    "        nn.LazyLinear(10)\n",
    "    )\n",
    "    return net\n",
    "\n",
    "net = get_net()\n",
    "net"
   ],
   "metadata": {
    "collapsed": false,
    "ExecuteTime": {
     "end_time": "2023-10-25T03:07:43.788753700Z",
     "start_time": "2023-10-25T03:07:43.754371900Z"
    }
   }
  },
  {
   "cell_type": "code",
   "execution_count": 21,
   "outputs": [
    {
     "name": "stdout",
     "output_type": "stream",
     "text": [
      "0.weight  :  <UninitializedParameter>\n",
      "0.bias  :  <UninitializedParameter>\n",
      "2.weight  :  <UninitializedParameter>\n",
      "2.bias  :  <UninitializedParameter>\n"
     ]
    }
   ],
   "source": [
    "def collect_params(net):\n",
    "    for name, param in net.named_parameters():\n",
    "        print(name, \" : \", param)\n",
    "\n",
    "collect_params(net)"
   ],
   "metadata": {
    "collapsed": false,
    "ExecuteTime": {
     "end_time": "2023-10-25T03:07:19.012209600Z",
     "start_time": "2023-10-25T03:07:18.985089200Z"
    }
   }
  },
  {
   "cell_type": "code",
   "execution_count": 22,
   "outputs": [
    {
     "name": "stdout",
     "output_type": "stream",
     "text": [
      "0.weight  :  <UninitializedParameter>\n",
      "0.bias  :  <UninitializedParameter>\n",
      "2.weight  :  <UninitializedParameter>\n",
      "2.bias  :  <UninitializedParameter>\n"
     ]
    }
   ],
   "source": [
    "def init_normal(m):\n",
    "    if type(m) == nn.Linear:\n",
    "        nn.init.normal_(m.weight, mean=0, std=0.01)\n",
    "        nn.init.zeros_(m.bias)\n",
    "\n",
    "net.apply(init_normal)\n",
    "collect_params(net)"
   ],
   "metadata": {
    "collapsed": false,
    "ExecuteTime": {
     "end_time": "2023-10-25T03:07:23.912597400Z",
     "start_time": "2023-10-25T03:07:23.897597900Z"
    }
   }
  },
  {
   "cell_type": "code",
   "execution_count": 27,
   "outputs": [
    {
     "name": "stdout",
     "output_type": "stream",
     "text": [
      "0.weight  :  Parameter containing:\n",
      "tensor([[ 0.1241, -0.0331, -0.0103,  ..., -0.1555,  0.1957, -0.1645],\n",
      "        [ 0.1348,  0.1086,  0.1082,  ...,  0.0252, -0.1294, -0.0826],\n",
      "        [ 0.0507,  0.2139, -0.0045,  ..., -0.2036, -0.1859,  0.1619],\n",
      "        ...,\n",
      "        [-0.0830,  0.2137, -0.0198,  ...,  0.1992,  0.2189,  0.1867],\n",
      "        [ 0.0896,  0.0564, -0.0486,  ...,  0.1724,  0.1531,  0.0200],\n",
      "        [-0.0235, -0.0577, -0.0218,  ..., -0.1141, -0.0029, -0.0794]],\n",
      "       requires_grad=True)\n",
      "0.bias  :  Parameter containing:\n",
      "tensor([-0.1442,  0.2178,  0.0014, -0.0814,  0.1808, -0.0898,  0.1756, -0.0510,\n",
      "        -0.0580, -0.1086,  0.0743,  0.1707,  0.2081, -0.0548, -0.0609, -0.0018,\n",
      "         0.1487,  0.0744,  0.1300, -0.0975,  0.0318,  0.0922,  0.0045, -0.0914,\n",
      "        -0.1804,  0.2037,  0.1069,  0.1791, -0.0678,  0.0899, -0.1792,  0.1347,\n",
      "        -0.0766,  0.0679, -0.1689,  0.1013, -0.0066,  0.0303, -0.1798, -0.0983,\n",
      "         0.0200,  0.0190,  0.1311, -0.1781,  0.0256, -0.1239, -0.1852, -0.0384,\n",
      "        -0.0041,  0.1518, -0.0159,  0.0829,  0.1803, -0.1576, -0.0409, -0.1563,\n",
      "         0.0592,  0.0301,  0.0461,  0.0610,  0.1728, -0.1295, -0.1653,  0.0879,\n",
      "        -0.1257,  0.1241,  0.2160, -0.0108, -0.0561, -0.1185,  0.0663, -0.1602,\n",
      "        -0.0498,  0.1398, -0.0931,  0.0350,  0.1751,  0.0654,  0.1541, -0.2228,\n",
      "         0.1062, -0.1287, -0.0450,  0.0824, -0.0618, -0.0532, -0.2126, -0.0338,\n",
      "        -0.0681, -0.0588, -0.0057,  0.0364,  0.1296, -0.0850,  0.1993,  0.2039,\n",
      "         0.1123, -0.0592,  0.1344, -0.0316,  0.0564,  0.1309, -0.0601, -0.1360,\n",
      "        -0.1915,  0.0635, -0.0756, -0.0631, -0.1824,  0.0158, -0.1396, -0.1411,\n",
      "         0.1176,  0.0502, -0.1288, -0.1452, -0.1891, -0.0383, -0.1772, -0.2065,\n",
      "         0.1591,  0.0798, -0.0328,  0.1699, -0.2071,  0.0555,  0.1164, -0.1251,\n",
      "         0.1664, -0.1499, -0.0357, -0.0216, -0.1889, -0.0518,  0.1313,  0.1917,\n",
      "        -0.0367, -0.0090, -0.0347, -0.2173, -0.0689, -0.0049, -0.1352, -0.1080,\n",
      "        -0.0070,  0.0684, -0.2216,  0.1184,  0.1409, -0.1883,  0.1073, -0.0989,\n",
      "        -0.0813,  0.2137,  0.1670,  0.0470, -0.0789,  0.0153, -0.1168, -0.1451,\n",
      "         0.1293, -0.2044,  0.1837, -0.2087,  0.2044, -0.0438,  0.2232, -0.1060,\n",
      "         0.0132, -0.0422, -0.1382,  0.0883, -0.1857, -0.0753, -0.2136, -0.1110,\n",
      "        -0.1824, -0.2064,  0.1436,  0.2209, -0.1696,  0.1926,  0.1735,  0.0841,\n",
      "        -0.1184, -0.2055, -0.1816,  0.1507, -0.1049,  0.0170, -0.0070, -0.2134,\n",
      "        -0.0943,  0.0197, -0.1127, -0.1596,  0.1740,  0.0235, -0.0215,  0.0498,\n",
      "         0.0126,  0.1637,  0.1140,  0.0115,  0.0817, -0.1508, -0.2122,  0.1031,\n",
      "        -0.0619,  0.1113, -0.1279, -0.1510, -0.1775, -0.1720,  0.0115,  0.0124,\n",
      "        -0.0899, -0.0830, -0.0400, -0.0851,  0.2069,  0.1527, -0.0549, -0.0453,\n",
      "         0.1581,  0.1959,  0.1256,  0.1411, -0.1032, -0.2236,  0.0172, -0.0908,\n",
      "         0.0413,  0.2180,  0.1053,  0.1704,  0.1274, -0.1407, -0.1592, -0.0760,\n",
      "        -0.0154,  0.1552, -0.1352,  0.1120, -0.1661, -0.1897, -0.2126, -0.1345,\n",
      "         0.0372, -0.0424,  0.0495, -0.0919, -0.1254,  0.0166,  0.2145, -0.1897],\n",
      "       requires_grad=True)\n",
      "2.weight  :  Parameter containing:\n",
      "tensor([[ 0.0270, -0.0211, -0.0281,  ..., -0.0190,  0.0262, -0.0067],\n",
      "        [-0.0109,  0.0610,  0.0214,  ...,  0.0395,  0.0312, -0.0168],\n",
      "        [-0.0044,  0.0225, -0.0111,  ..., -0.0400,  0.0303, -0.0438],\n",
      "        ...,\n",
      "        [ 0.0461,  0.0161,  0.0119,  ..., -0.0254,  0.0412,  0.0063],\n",
      "        [ 0.0551, -0.0297, -0.0435,  ...,  0.0004,  0.0074,  0.0351],\n",
      "        [ 0.0243, -0.0368,  0.0111,  ...,  0.0561, -0.0231,  0.0423]],\n",
      "       requires_grad=True)\n",
      "2.bias  :  Parameter containing:\n",
      "tensor([ 0.0013, -0.0363,  0.0342,  0.0137,  0.0599, -0.0085, -0.0336,  0.0156,\n",
      "         0.0078, -0.0061], requires_grad=True)\n"
     ]
    }
   ],
   "source": [
    "X = np.random.uniform(size=(2, 20))\n",
    "X = torch.tensor(X)\n",
    "X = X.to(torch.float32)\n",
    "net(X)\n",
    "\n",
    "collect_params(net)"
   ],
   "metadata": {
    "collapsed": false,
    "ExecuteTime": {
     "end_time": "2023-10-25T03:08:59.990273100Z",
     "start_time": "2023-10-25T03:08:59.938810700Z"
    }
   }
  },
  {
   "cell_type": "code",
   "execution_count": null,
   "outputs": [],
   "source": [],
   "metadata": {
    "collapsed": false
   }
  }
 ],
 "metadata": {
  "kernelspec": {
   "display_name": "Python 3",
   "language": "python",
   "name": "python3"
  },
  "language_info": {
   "codemirror_mode": {
    "name": "ipython",
    "version": 2
   },
   "file_extension": ".py",
   "mimetype": "text/x-python",
   "name": "python",
   "nbconvert_exporter": "python",
   "pygments_lexer": "ipython2",
   "version": "2.7.6"
  }
 },
 "nbformat": 4,
 "nbformat_minor": 0
}
